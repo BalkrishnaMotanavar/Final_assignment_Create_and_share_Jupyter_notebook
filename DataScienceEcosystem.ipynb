{
 "cells": [
  {
   "cell_type": "markdown",
   "id": "b3c0f236",
   "metadata": {},
   "source": [
    "<center>\n",
    "    <img src=\"https://cf-courses-data.s3.us.cloud-object-storage.appdomain.cloud/IBMDeveloperSkillsNetwork-DS0105EN-SkillsNetwork/labs/Module2/images/SN_web_lightmode.png\" width=\"300\" alt=\"cognitiveclass.ai logo\">\n",
    "</center>\n"
   ]
  },
  {
   "cell_type": "markdown",
   "id": "a5f1d17e",
   "metadata": {},
   "source": [
    "# Data Science Tools and Ecosystem"
   ]
  },
  {
   "cell_type": "markdown",
   "id": "72e1b643",
   "metadata": {},
   "source": [
    "## In this notebook, Data Science Tools and Ecosystem are summarized."
   ]
  },
  {
   "cell_type": "markdown",
   "id": "a28cf500",
   "metadata": {},
   "source": [
    "### some of the key takeaways from the course\n",
    "\n",
    "**Objectives**\n",
    "\n",
    "- Popular languages used by Data Scientists\n",
    "- commonly used libraries by Data Scientists\n",
    "- Data Science Tools\n",
    "- Examples of evaluating arithmetic expressions in Python\n",
    "- Simple arithmetic expression to mutiply then add integers\n",
    "- Converting minutes to hours using code cell"
   ]
  },
  {
   "cell_type": "markdown",
   "id": "1c1490ae",
   "metadata": {},
   "source": [
    "Some of the popular languages that Data Scientists use are:\n",
    "    \n",
    "    1. Python\n",
    "    2. R\n",
    "    3. SQL\n",
    "    4. Julia"
   ]
  },
  {
   "cell_type": "markdown",
   "id": "0b41595e",
   "metadata": {},
   "source": [
    "Some of the commonly used libraries used by Data Scientists include:\n",
    "    \n",
    "    1. Pandas\n",
    "    2. NumPy\n",
    "    3. Matplotlib\n",
    "    4. Scikit-learn in Python\n",
    "    5. ggplot2 and dplyr in R"
   ]
  },
  {
   "cell_type": "markdown",
   "id": "ed172f4b",
   "metadata": {},
   "source": [
    "|Data Science Tools|\n",
    "|--------------------|\n",
    "|Python|\n",
    "|R|\n",
    "|Jupyter Notebook|"
   ]
  },
  {
   "cell_type": "markdown",
   "id": "45252817",
   "metadata": {},
   "source": [
    "### Below are a few examples of evaluating arithmetic expressions in Python.\n",
    "\n",
    "1. Addition: 5 + 5\n",
    "2. Subtraction: 10 - 4\n",
    "3. Multiplication: 7 * 2\n",
    "4. Division: 15 / 3\n",
    "5. Integer Division: 15 // 3\n",
    "6. Exponent: 2 ** 4\n",
    "7. Remainder: 17 % 5"
   ]
  },
  {
   "cell_type": "code",
   "execution_count": 8,
   "id": "e3e1f03b",
   "metadata": {},
   "outputs": [
    {
     "data": {
      "text/plain": [
       "17"
      ]
     },
     "execution_count": 8,
     "metadata": {},
     "output_type": "execute_result"
    }
   ],
   "source": [
    "# This a simple arithmetic expression to mutiply then add integers\n",
    "\n",
    "(3 * 4) + 5"
   ]
  },
  {
   "cell_type": "code",
   "execution_count": 12,
   "id": "a0351e18",
   "metadata": {},
   "outputs": [
    {
     "name": "stdout",
     "output_type": "stream",
     "text": [
      "3.3333333333333335\n"
     ]
    }
   ],
   "source": [
    "# This will convert 200 minutes to hours by diving by 60.\n",
    "\n",
    "minutes = '200'\n",
    "hours = int(str(minutes)) / 60\n",
    "\n",
    "print(hours)"
   ]
  },
  {
   "cell_type": "markdown",
   "id": "229e20c6",
   "metadata": {},
   "source": [
    "## Author\n",
    "\n",
    "Balkrishna M Mottannavar"
   ]
  }
 ],
 "metadata": {
  "kernelspec": {
   "display_name": "Python 3 (ipykernel)",
   "language": "python",
   "name": "python3"
  },
  "language_info": {
   "codemirror_mode": {
    "name": "ipython",
    "version": 3
   },
   "file_extension": ".py",
   "mimetype": "text/x-python",
   "name": "python",
   "nbconvert_exporter": "python",
   "pygments_lexer": "ipython3",
   "version": "3.9.13"
  }
 },
 "nbformat": 4,
 "nbformat_minor": 5
}
